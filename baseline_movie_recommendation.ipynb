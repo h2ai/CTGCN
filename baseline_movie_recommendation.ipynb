{
 "cells": [
  {
   "cell_type": "code",
   "execution_count": 26,
   "id": "a456679f",
   "metadata": {},
   "outputs": [
    {
     "name": "stdout",
     "output_type": "stream",
     "text": [
      "The autoreload extension is already loaded. To reload it, use:\n",
      "  %reload_ext autoreload\n"
     ]
    }
   ],
   "source": [
    "%load_ext autoreload\n",
    "%autoreload 2\n",
    "import os, sys, re, datetime, random, gzip, json, copy\n",
    "from pathlib import Path\n",
    "import networkx as nx\n",
    "import numpy as np\n",
    "import pandas as pd\n",
    "import itertools\n",
    "from sklearn.preprocessing import StandardScaler\n",
    "from sklearn.pipeline import make_pipeline\n",
    "from sklearn.svm import SVC\n",
    "from sklearn.metrics import accuracy_score, f1_score\n",
    "from sklearn.ensemble import RandomForestClassifier\n",
    "from sklearn import linear_model\n",
    "from sklearn.metrics import roc_auc_score\n",
    "from scipy import spatial\n",
    "from sklearn.neighbors import NearestNeighbors\n",
    "\n",
    "import matplotlib.pyplot as plt\n",
    "PROJ_PATH = Path(os.path.join(re.sub(\"/CTGCN.*$\", '', os.getcwd()), 'CTGCN'))\n",
    "sys.path.insert(1, str(str(PROJ_PATH.parents[0] / 'DySubG/src/')))\n",
    "from ranking import Evaluation\n",
    "# exec(open(str(PROJ_PATH.parents[0] / 'DySubG/src/ranking.py')).read())"
   ]
  },
  {
   "cell_type": "code",
   "execution_count": 27,
   "id": "491124eb",
   "metadata": {},
   "outputs": [],
   "source": [
    "def make_prediction(user_idx, movie_idx, exp='movielens', method='GCN', num_time_steps=5):\n",
    "    node_embedding = {}\n",
    "    nodes = pd.read_csv(f'./data/{exp}/nodes_set/nodes.csv', names=['nodes'])['nodes'].values\n",
    "    for time_id in range(num_time_steps-2, num_time_steps):\n",
    "        embs = pd.read_csv(\n",
    "            './data/{}/2.embedding/{}/{:02d}.csv'.format(exp, method, time_id), index_col=0, sep='\\t').values\n",
    "        dict_embs = {k:v for k,v in zip(nodes, embs)}\n",
    "        node_embedding[time_id] = dict_embs\n",
    "\n",
    "    time_id = num_time_steps - 1\n",
    "    k = 20\n",
    "    pred = []\n",
    "    for i, uid in enumerate(user_idx):\n",
    "        if i % 10 == 0: print(i)\n",
    "        distances = []\n",
    "        user_emb = node_embedding[time_id][uid]\n",
    "        for mid in movie_idx:\n",
    "            movie_emb = node_embedding[time_id][mid]\n",
    "            dist = spatial.distance.cosine(user_emb, movie_emb)\n",
    "            distances.append((uid, mid, dist))\n",
    "        distances.sort(key=lambda tup: tup[2])\n",
    "        pred += distances[:k]\n",
    "    pd_pred = pd.DataFrame(pred, columns=['user_id', 'movie_id', 'rank'])\n",
    "    \n",
    "    return pd_pred\n",
    "\n",
    "def eval_ranking(pd_pred, pd_true):\n",
    "    predicted_indices = pd_pred.sort_values(\n",
    "        ['user_id', 'rank']).groupby('user_id').agg({'movie_id': list})['movie_id'].to_list()\n",
    "    true_indices = pd_true.sort_values(\n",
    "        ['target_id', 'source_id']).groupby('target_id').agg({'source_id': list})['source_id'].to_list()\n",
    "    eval_agent = Evaluation(predicted_indices, true_indices)\n",
    "    return eval_agent.result\n",
    "\n",
    "def print_report(exp='movielens', methods=[], selected_methods=[]):\n",
    "    if len(methods) == 0:\n",
    "        methods = [\n",
    "            'GCN', 'GAT', 'SAGE', 'GIN', \n",
    "            'TgGCN', 'TgGAT', 'TgSAGE', 'TgGIN', \n",
    "            'TIMERS', 'DynAE', 'DynRNN', 'DynAERNN', 'DynGEM', \n",
    "            'VGRNN', 'EvolveGCN', 'CTGCN-C',\n",
    "        ]\n",
    "    if len(selected_methods) == 0:\n",
    "        selected_methods = [\n",
    "            'GCN', 'TgGAT', 'TgSAGE', 'TgGIN', 'DynAE', \n",
    "            'DynRNN', 'DynAERNN', 'DynGEM', 'EvolveGCN', \n",
    "            'TIMERS', 'CTGCN-C']\n",
    "        \n",
    "    try:\n",
    "        pd_edges = pd.read_csv(f'./data/{exp}/0.input/temporal_edge_list.txt', sep=' ', names=['source_id', 'target_id', 'time_id'])\n",
    "    except:\n",
    "        pd_edges = pd.read_csv(f'./data/{exp}/0.input/edges.csv')\n",
    "    \n",
    "    data = pd.read_pickle(f'./data/{exp}/0.input/data.pkl')\n",
    "    entity_mapping = pd.read_pickle(f'./data/{exp}/0.input/entity_mapping.pkl')\n",
    "    num_time_steps = pd_edges['time_id'].max() + 1\n",
    "    ground_truth = pd.read_csv(f'./data/{exp}/0.input/ground_truth.csv')\n",
    "    user_idx = sorted(ground_truth['target_id'].unique())\n",
    "    movie_idx = entity_mapping['movie'].values()\n",
    "    \n",
    "    res = []\n",
    "    for method in methods:\n",
    "        print(method)\n",
    "        if os.path.exists(f'./data/{exp}/0.input/{method}_pred.csv'):\n",
    "            pd_pred = pd.read_csv(f'./data/{exp}/0.input/{method}_pred.csv')\n",
    "        else:\n",
    "            pd_pred = make_prediction(user_idx, movie_idx, exp, method, num_time_steps)\n",
    "            pd_pred.to_csv(f'./data/{exp}/0.input/{method}_pred.csv', index=False)\n",
    "        \n",
    "        results = eval_ranking(pd_pred, ground_truth)\n",
    "        tmp = results[results['k']==20]\n",
    "        tmp['method'] = method\n",
    "        res.append(tmp)\n",
    "    \n",
    "    df = pd.concat(res)\n",
    "\n",
    "    print('Full report')\n",
    "    display(df)\n",
    "\n",
    "    print('Selected methods')\n",
    "    display(df['method'].isin(selected_methods))\n",
    "    return df"
   ]
  },
  {
   "cell_type": "code",
   "execution_count": 28,
   "id": "5d838d37",
   "metadata": {},
   "outputs": [],
   "source": []
  },
  {
   "cell_type": "code",
   "execution_count": 31,
   "id": "44e03f89",
   "metadata": {},
   "outputs": [
    {
     "name": "stdout",
     "output_type": "stream",
     "text": [
      "GCN\n",
      "Full report\n"
     ]
    },
    {
     "name": "stderr",
     "output_type": "stream",
     "text": [
      "/home/hoang/miniconda2/envs/pygnn/lib/python3.7/site-packages/ipykernel_launcher.py:38: SettingWithCopyWarning: \n",
      "A value is trying to be set on a copy of a slice from a DataFrame.\n",
      "Try using .loc[row_indexer,col_indexer] = value instead\n",
      "\n",
      "See the caveats in the documentation: https://pandas.pydata.org/pandas-docs/stable/user_guide/indexing.html#returning-a-view-versus-a-copy\n"
     ]
    },
    {
     "data": {
      "text/html": [
       "<div>\n",
       "<style scoped>\n",
       "    .dataframe tbody tr th:only-of-type {\n",
       "        vertical-align: middle;\n",
       "    }\n",
       "\n",
       "    .dataframe tbody tr th {\n",
       "        vertical-align: top;\n",
       "    }\n",
       "\n",
       "    .dataframe thead th {\n",
       "        text-align: right;\n",
       "    }\n",
       "</style>\n",
       "<table border=\"1\" class=\"dataframe\">\n",
       "  <thead>\n",
       "    <tr style=\"text-align: right;\">\n",
       "      <th></th>\n",
       "      <th>k</th>\n",
       "      <th>recall</th>\n",
       "      <th>mrr</th>\n",
       "      <th>map</th>\n",
       "      <th>ndcg</th>\n",
       "      <th>method</th>\n",
       "    </tr>\n",
       "  </thead>\n",
       "  <tbody>\n",
       "    <tr>\n",
       "      <th>20</th>\n",
       "      <td>20</td>\n",
       "      <td>0.054771</td>\n",
       "      <td>0.231921</td>\n",
       "      <td>0.029417</td>\n",
       "      <td>0.118989</td>\n",
       "      <td>GCN</td>\n",
       "    </tr>\n",
       "  </tbody>\n",
       "</table>\n",
       "</div>"
      ],
      "text/plain": [
       "     k    recall       mrr       map      ndcg method\n",
       "20  20  0.054771  0.231921  0.029417  0.118989    GCN"
      ]
     },
     "metadata": {},
     "output_type": "display_data"
    },
    {
     "name": "stdout",
     "output_type": "stream",
     "text": [
      "Selected methods\n"
     ]
    },
    {
     "data": {
      "text/plain": [
       "20    True\n",
       "Name: method, dtype: bool"
      ]
     },
     "metadata": {},
     "output_type": "display_data"
    }
   ],
   "source": [
    "report = print_report('movielens', ['GCN'])"
   ]
  },
  {
   "cell_type": "code",
   "execution_count": null,
   "id": "edfdf1b9",
   "metadata": {},
   "outputs": [],
   "source": []
  }
 ],
 "metadata": {
  "kernelspec": {
   "display_name": "Python 3 (ipykernel)",
   "language": "python",
   "name": "python3"
  },
  "language_info": {
   "codemirror_mode": {
    "name": "ipython",
    "version": 3
   },
   "file_extension": ".py",
   "mimetype": "text/x-python",
   "name": "python",
   "nbconvert_exporter": "python",
   "pygments_lexer": "ipython3",
   "version": "3.8.10"
  },
  "toc": {
   "base_numbering": 1,
   "nav_menu": {},
   "number_sections": true,
   "sideBar": true,
   "skip_h1_title": false,
   "title_cell": "Table of Contents",
   "title_sidebar": "Contents",
   "toc_cell": false,
   "toc_position": {
    "height": "calc(100% - 180px)",
    "left": "10px",
    "top": "150px",
    "width": "165px"
   },
   "toc_section_display": true,
   "toc_window_display": true
  }
 },
 "nbformat": 4,
 "nbformat_minor": 5
}
