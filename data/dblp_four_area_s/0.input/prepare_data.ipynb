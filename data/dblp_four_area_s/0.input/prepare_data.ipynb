{
 "cells": [
  {
   "cell_type": "code",
   "execution_count": 3,
   "id": "585d32e9",
   "metadata": {},
   "outputs": [],
   "source": [
    "import numpy as np\n",
    "import pandas as pd\n",
    "import csv"
   ]
  },
  {
   "cell_type": "code",
   "execution_count": 18,
   "id": "ffbbc9e0",
   "metadata": {},
   "outputs": [
    {
     "name": "stdout",
     "output_type": "stream",
     "text": [
      "mkdir: cannot create directory ‘../1.format/’: File exists\n",
      "mkdir: cannot create directory ‘../nodes_set/’: File exists\n"
     ]
    }
   ],
   "source": [
    "!mkdir ../1.format/\n",
    "!mkdir ../nodes_set/\n",
    "!mkdir ../nodes_label"
   ]
  },
  {
   "cell_type": "code",
   "execution_count": 19,
   "id": "1b8e7679",
   "metadata": {},
   "outputs": [
    {
     "name": "stdout",
     "output_type": "stream",
     "text": [
      "(170794, 3)\n"
     ]
    },
    {
     "data": {
      "text/html": [
       "<div>\n",
       "<style scoped>\n",
       "    .dataframe tbody tr th:only-of-type {\n",
       "        vertical-align: middle;\n",
       "    }\n",
       "\n",
       "    .dataframe tbody tr th {\n",
       "        vertical-align: top;\n",
       "    }\n",
       "\n",
       "    .dataframe thead th {\n",
       "        text-align: right;\n",
       "    }\n",
       "</style>\n",
       "<table border=\"1\" class=\"dataframe\">\n",
       "  <thead>\n",
       "    <tr style=\"text-align: right;\">\n",
       "      <th></th>\n",
       "      <th>source_id</th>\n",
       "      <th>target_id</th>\n",
       "      <th>time_id</th>\n",
       "    </tr>\n",
       "  </thead>\n",
       "  <tbody>\n",
       "    <tr>\n",
       "      <th>0</th>\n",
       "      <td>27423</td>\n",
       "      <td>2449</td>\n",
       "      <td>0</td>\n",
       "    </tr>\n",
       "    <tr>\n",
       "      <th>1</th>\n",
       "      <td>27424</td>\n",
       "      <td>2450</td>\n",
       "      <td>1</td>\n",
       "    </tr>\n",
       "    <tr>\n",
       "      <th>2</th>\n",
       "      <td>27425</td>\n",
       "      <td>2450</td>\n",
       "      <td>4</td>\n",
       "    </tr>\n",
       "    <tr>\n",
       "      <th>3</th>\n",
       "      <td>27425</td>\n",
       "      <td>2451</td>\n",
       "      <td>4</td>\n",
       "    </tr>\n",
       "    <tr>\n",
       "      <th>4</th>\n",
       "      <td>27425</td>\n",
       "      <td>2452</td>\n",
       "      <td>4</td>\n",
       "    </tr>\n",
       "  </tbody>\n",
       "</table>\n",
       "</div>"
      ],
      "text/plain": [
       "   source_id  target_id  time_id\n",
       "0      27423       2449        0\n",
       "1      27424       2450        1\n",
       "2      27425       2450        4\n",
       "3      27425       2451        4\n",
       "4      27425       2452        4"
      ]
     },
     "execution_count": 19,
     "metadata": {},
     "output_type": "execute_result"
    }
   ],
   "source": [
    "pd_edges = pd.read_csv('temporal_edge_list.txt', sep=' ', names=['source_id', 'target_id', 'time_id'])\n",
    "print(pd_edges.shape)\n",
    "pd_edges.head()"
   ]
  },
  {
   "cell_type": "code",
   "execution_count": 4,
   "id": "e38aaf3a",
   "metadata": {},
   "outputs": [
    {
     "name": "stdout",
     "output_type": "stream",
     "text": [
      "Save to: ../1.format/00.csv\n",
      "Save to: ../1.format/01.csv\n",
      "Save to: ../1.format/02.csv\n",
      "Save to: ../1.format/03.csv\n",
      "Save to: ../1.format/04.csv\n",
      "Save to: ../1.format/05.csv\n",
      "Save to: ../1.format/06.csv\n"
     ]
    }
   ],
   "source": [
    "num_time_steps = pd_edges['time_id'].max() + 1\n",
    "for time_id in range(num_time_steps):\n",
    "    tmp = pd_edges[pd_edges['time_id']==time_id][['source_id', 'target_id']]\n",
    "    tmp = tmp.rename(columns={'source_id': 'from_id', 'target_id': 'to_id'})\n",
    "    tmp['weight'] = 1\n",
    "    save_path = '../1.format/{:02d}.csv'.format(time_id)\n",
    "    print('Save to: {}'.format(save_path))\n",
    "    tmp[['from_id', 'to_id', 'weight']].to_csv(save_path, sep='\\t', index=False)"
   ]
  },
  {
   "cell_type": "code",
   "execution_count": 5,
   "id": "90c7c627",
   "metadata": {},
   "outputs": [
    {
     "data": {
      "text/plain": [
       "(37791, 0, 37790)"
      ]
     },
     "execution_count": 5,
     "metadata": {},
     "output_type": "execute_result"
    }
   ],
   "source": [
    "nodes = list(set(pd_edges['source_id'].unique().tolist() + pd_edges['target_id'].unique().tolist()))\n",
    "len(nodes), min(nodes), max(nodes)"
   ]
  },
  {
   "cell_type": "code",
   "execution_count": 6,
   "id": "67846dfc",
   "metadata": {},
   "outputs": [],
   "source": [
    "with open('../nodes_set/nodes.csv',\"w\") as f:\n",
    "    wr = csv.writer(f, delimiter=\"\\n\")\n",
    "    wr.writerow(nodes)"
   ]
  },
  {
   "cell_type": "code",
   "execution_count": 20,
   "id": "dff73a50",
   "metadata": {},
   "outputs": [
    {
     "name": "stdout",
     "output_type": "stream",
     "text": [
      "../nodes_label/00.csv\n",
      "../nodes_label/01.csv\n",
      "../nodes_label/02.csv\n",
      "../nodes_label/03.csv\n",
      "../nodes_label/04.csv\n",
      "../nodes_label/05.csv\n",
      "../nodes_label/06.csv\n"
     ]
    }
   ],
   "source": [
    "num_time_steps = pd_edges['time_id'].max() + 1\n",
    "entity_mapping = pd.read_pickle('/home/hoang/github/DyHNet/dataset/dblp_four_area/entity_mapping.pkl')\n",
    "label = pd.read_csv('/home/hoang/github/DyHNet/dataset/dblp_four_area/author_label.txt', sep='\\t', names=['id', 'label', 'name'])\n",
    "label['id'] = label['id'].apply(lambda x: 'a_{}'.format(str(x)))\n",
    "label['aid'] = label['id'].map(entity_mapping)\n",
    "label = label.sort_values('aid').rename(columns={'aid': 'node'})\n",
    "\n",
    "for time_id in range(num_time_steps):\n",
    "    save_path = '../nodes_label/{:02d}.csv'.format(time_id)\n",
    "    print(save_path)\n",
    "    label[['node', 'label']].to_csv(save_path, sep='\\t', index=False)"
   ]
  },
  {
   "cell_type": "code",
   "execution_count": 16,
   "id": "ee7a47bc",
   "metadata": {},
   "outputs": [
    {
     "data": {
      "text/html": [
       "<div>\n",
       "<style scoped>\n",
       "    .dataframe tbody tr th:only-of-type {\n",
       "        vertical-align: middle;\n",
       "    }\n",
       "\n",
       "    .dataframe tbody tr th {\n",
       "        vertical-align: top;\n",
       "    }\n",
       "\n",
       "    .dataframe thead th {\n",
       "        text-align: right;\n",
       "    }\n",
       "</style>\n",
       "<table border=\"1\" class=\"dataframe\">\n",
       "  <thead>\n",
       "    <tr style=\"text-align: right;\">\n",
       "      <th></th>\n",
       "      <th>id</th>\n",
       "      <th>label</th>\n",
       "      <th>name</th>\n",
       "      <th>node</th>\n",
       "    </tr>\n",
       "  </thead>\n",
       "  <tbody>\n",
       "    <tr>\n",
       "      <th>259</th>\n",
       "      <td>a_10003</td>\n",
       "      <td>3</td>\n",
       "      <td>Fang Liu</td>\n",
       "      <td>1</td>\n",
       "    </tr>\n",
       "    <tr>\n",
       "      <th>3059</th>\n",
       "      <td>a_100282</td>\n",
       "      <td>3</td>\n",
       "      <td>Paolo Boldi</td>\n",
       "      <td>8</td>\n",
       "    </tr>\n",
       "    <tr>\n",
       "      <th>3259</th>\n",
       "      <td>a_100649</td>\n",
       "      <td>1</td>\n",
       "      <td>Ravi Janardan</td>\n",
       "      <td>14</td>\n",
       "    </tr>\n",
       "    <tr>\n",
       "      <th>1579</th>\n",
       "      <td>a_100760</td>\n",
       "      <td>1</td>\n",
       "      <td>Nathan S. Netanyahu</td>\n",
       "      <td>15</td>\n",
       "    </tr>\n",
       "    <tr>\n",
       "      <th>1886</th>\n",
       "      <td>a_101290</td>\n",
       "      <td>0</td>\n",
       "      <td>Ashish Gupta</td>\n",
       "      <td>27</td>\n",
       "    </tr>\n",
       "    <tr>\n",
       "      <th>...</th>\n",
       "      <td>...</td>\n",
       "      <td>...</td>\n",
       "      <td>...</td>\n",
       "      <td>...</td>\n",
       "    </tr>\n",
       "    <tr>\n",
       "      <th>2196</th>\n",
       "      <td>a_99024</td>\n",
       "      <td>1</td>\n",
       "      <td>Christos Davatzikos</td>\n",
       "      <td>14453</td>\n",
       "    </tr>\n",
       "    <tr>\n",
       "      <th>2526</th>\n",
       "      <td>a_9915</td>\n",
       "      <td>1</td>\n",
       "      <td>Gang Wang</td>\n",
       "      <td>14456</td>\n",
       "    </tr>\n",
       "    <tr>\n",
       "      <th>69</th>\n",
       "      <td>a_99226</td>\n",
       "      <td>1</td>\n",
       "      <td>Chotirat (Ann) Ratanamahatana</td>\n",
       "      <td>14460</td>\n",
       "    </tr>\n",
       "    <tr>\n",
       "      <th>2471</th>\n",
       "      <td>a_99420</td>\n",
       "      <td>2</td>\n",
       "      <td>Kenneth McGarry</td>\n",
       "      <td>14464</td>\n",
       "    </tr>\n",
       "    <tr>\n",
       "      <th>3159</th>\n",
       "      <td>a_99505</td>\n",
       "      <td>0</td>\n",
       "      <td>Mehdi Benzine</td>\n",
       "      <td>14468</td>\n",
       "    </tr>\n",
       "  </tbody>\n",
       "</table>\n",
       "<p>4057 rows × 4 columns</p>\n",
       "</div>"
      ],
      "text/plain": [
       "            id  label                           name   node\n",
       "259    a_10003      3                       Fang Liu      1\n",
       "3059  a_100282      3                    Paolo Boldi      8\n",
       "3259  a_100649      1                  Ravi Janardan     14\n",
       "1579  a_100760      1            Nathan S. Netanyahu     15\n",
       "1886  a_101290      0                   Ashish Gupta     27\n",
       "...        ...    ...                            ...    ...\n",
       "2196   a_99024      1            Christos Davatzikos  14453\n",
       "2526    a_9915      1                      Gang Wang  14456\n",
       "69     a_99226      1  Chotirat (Ann) Ratanamahatana  14460\n",
       "2471   a_99420      2                Kenneth McGarry  14464\n",
       "3159   a_99505      0                  Mehdi Benzine  14468\n",
       "\n",
       "[4057 rows x 4 columns]"
      ]
     },
     "execution_count": 16,
     "metadata": {},
     "output_type": "execute_result"
    }
   ],
   "source": [
    "label"
   ]
  },
  {
   "cell_type": "code",
   "execution_count": null,
   "id": "9a213d34",
   "metadata": {},
   "outputs": [],
   "source": []
  }
 ],
 "metadata": {
  "kernelspec": {
   "display_name": "Python 3",
   "language": "python",
   "name": "python3"
  },
  "language_info": {
   "codemirror_mode": {
    "name": "ipython",
    "version": 3
   },
   "file_extension": ".py",
   "mimetype": "text/x-python",
   "name": "python",
   "nbconvert_exporter": "python",
   "pygments_lexer": "ipython3",
   "version": "3.7.6"
  },
  "toc": {
   "base_numbering": 1,
   "nav_menu": {},
   "number_sections": true,
   "sideBar": true,
   "skip_h1_title": false,
   "title_cell": "Table of Contents",
   "title_sidebar": "Contents",
   "toc_cell": false,
   "toc_position": {
    "height": "calc(100% - 180px)",
    "left": "10px",
    "top": "150px",
    "width": "165px"
   },
   "toc_section_display": true,
   "toc_window_display": true
  }
 },
 "nbformat": 4,
 "nbformat_minor": 5
}
