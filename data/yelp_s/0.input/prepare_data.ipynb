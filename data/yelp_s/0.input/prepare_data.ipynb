{
 "cells": [
  {
   "cell_type": "code",
   "execution_count": 1,
   "id": "e058d644",
   "metadata": {},
   "outputs": [],
   "source": [
    "import numpy as np\n",
    "import pandas as pd\n",
    "import csv"
   ]
  },
  {
   "cell_type": "code",
   "execution_count": 2,
   "id": "311b614b",
   "metadata": {},
   "outputs": [],
   "source": [
    "# !mkdir ../1.format/\n",
    "# !mkdir ../nodes_set/\n",
    "!mkdir ../nodes_label"
   ]
  },
  {
   "cell_type": "code",
   "execution_count": 3,
   "id": "aec69318",
   "metadata": {},
   "outputs": [
    {
     "name": "stdout",
     "output_type": "stream",
     "text": [
      "(105975, 3)\n"
     ]
    },
    {
     "data": {
      "text/html": [
       "<div>\n",
       "<style scoped>\n",
       "    .dataframe tbody tr th:only-of-type {\n",
       "        vertical-align: middle;\n",
       "    }\n",
       "\n",
       "    .dataframe tbody tr th {\n",
       "        vertical-align: top;\n",
       "    }\n",
       "\n",
       "    .dataframe thead th {\n",
       "        text-align: right;\n",
       "    }\n",
       "</style>\n",
       "<table border=\"1\" class=\"dataframe\">\n",
       "  <thead>\n",
       "    <tr style=\"text-align: right;\">\n",
       "      <th></th>\n",
       "      <th>source_id</th>\n",
       "      <th>target_id</th>\n",
       "      <th>time_id</th>\n",
       "    </tr>\n",
       "  </thead>\n",
       "  <tbody>\n",
       "    <tr>\n",
       "      <th>0</th>\n",
       "      <td>12284</td>\n",
       "      <td>3165</td>\n",
       "      <td>1</td>\n",
       "    </tr>\n",
       "    <tr>\n",
       "      <th>1</th>\n",
       "      <td>31995</td>\n",
       "      <td>4555</td>\n",
       "      <td>3</td>\n",
       "    </tr>\n",
       "    <tr>\n",
       "      <th>2</th>\n",
       "      <td>30058</td>\n",
       "      <td>4434</td>\n",
       "      <td>0</td>\n",
       "    </tr>\n",
       "    <tr>\n",
       "      <th>3</th>\n",
       "      <td>22643</td>\n",
       "      <td>4264</td>\n",
       "      <td>2</td>\n",
       "    </tr>\n",
       "    <tr>\n",
       "      <th>4</th>\n",
       "      <td>16994</td>\n",
       "      <td>3953</td>\n",
       "      <td>2</td>\n",
       "    </tr>\n",
       "  </tbody>\n",
       "</table>\n",
       "</div>"
      ],
      "text/plain": [
       "   source_id  target_id  time_id\n",
       "0      12284       3165        1\n",
       "1      31995       4555        3\n",
       "2      30058       4434        0\n",
       "3      22643       4264        2\n",
       "4      16994       3953        2"
      ]
     },
     "execution_count": 3,
     "metadata": {},
     "output_type": "execute_result"
    }
   ],
   "source": [
    "pd_edges = pd.read_csv('temporal_edge_list.txt', sep=' ', names=['source_id', 'target_id', 'time_id'])\n",
    "print(pd_edges.shape)\n",
    "pd_edges.head()"
   ]
  },
  {
   "cell_type": "code",
   "execution_count": 4,
   "id": "9a587ad5",
   "metadata": {},
   "outputs": [
    {
     "name": "stdout",
     "output_type": "stream",
     "text": [
      "Save to: ../1.format/00.csv\n",
      "Save to: ../1.format/01.csv\n",
      "Save to: ../1.format/02.csv\n",
      "Save to: ../1.format/03.csv\n",
      "Save to: ../1.format/04.csv\n",
      "Save to: ../1.format/05.csv\n",
      "Save to: ../1.format/06.csv\n"
     ]
    }
   ],
   "source": [
    "num_time_steps = pd_edges['time_id'].max() + 1\n",
    "for time_id in range(num_time_steps):\n",
    "    tmp = pd_edges[pd_edges['time_id']==time_id][['source_id', 'target_id']]\n",
    "    tmp = tmp.rename(columns={'source_id': 'from_id', 'target_id': 'to_id'})\n",
    "    tmp['weight'] = 1\n",
    "    save_path = '../1.format/{:02d}.csv'.format(time_id)\n",
    "    print('Save to: {}'.format(save_path))\n",
    "    tmp[['from_id', 'to_id', 'weight']].to_csv(save_path, sep='\\t', index=False)"
   ]
  },
  {
   "cell_type": "code",
   "execution_count": 5,
   "id": "baf812ce",
   "metadata": {},
   "outputs": [
    {
     "data": {
      "text/plain": [
       "(35316, 0, 35315)"
      ]
     },
     "execution_count": 5,
     "metadata": {},
     "output_type": "execute_result"
    }
   ],
   "source": [
    "nodes = list(set(pd_edges['source_id'].unique().tolist() + pd_edges['target_id'].unique().tolist()))\n",
    "len(nodes), min(nodes), max(nodes)"
   ]
  },
  {
   "cell_type": "code",
   "execution_count": 6,
   "id": "43f74aae",
   "metadata": {},
   "outputs": [],
   "source": [
    "with open('../nodes_set/nodes.csv',\"w\") as f:\n",
    "    wr = csv.writer(f, delimiter=\"\\n\")\n",
    "    wr.writerow(nodes)"
   ]
  },
  {
   "cell_type": "code",
   "execution_count": 11,
   "id": "f73ef88e",
   "metadata": {},
   "outputs": [
    {
     "name": "stdout",
     "output_type": "stream",
     "text": [
      "../nodes_label/00.csv\n",
      "../nodes_label/01.csv\n",
      "../nodes_label/02.csv\n",
      "../nodes_label/03.csv\n",
      "../nodes_label/04.csv\n",
      "../nodes_label/05.csv\n",
      "../nodes_label/06.csv\n"
     ]
    }
   ],
   "source": [
    "num_time_steps = pd_edges['time_id'].max() + 1\n",
    "pd_nodes = pd.read_csv('/home/hoang/github/DyHNet/dataset/yelp/labels.csv')\n",
    "label = pd_nodes.sort_values('business_id').rename(columns={'business_id': 'node', 'category': 'label'})\n",
    "\n",
    "for time_id in range(num_time_steps):\n",
    "    save_path = '../nodes_label/{:02d}.csv'.format(time_id)\n",
    "    print(save_path)\n",
    "    label[['node', 'label']].to_csv(save_path, sep='\\t', index=False)"
   ]
  },
  {
   "cell_type": "code",
   "execution_count": 12,
   "id": "184a268e",
   "metadata": {},
   "outputs": [
    {
     "data": {
      "text/html": [
       "<div>\n",
       "<style scoped>\n",
       "    .dataframe tbody tr th:only-of-type {\n",
       "        vertical-align: middle;\n",
       "    }\n",
       "\n",
       "    .dataframe tbody tr th {\n",
       "        vertical-align: top;\n",
       "    }\n",
       "\n",
       "    .dataframe thead th {\n",
       "        text-align: right;\n",
       "    }\n",
       "</style>\n",
       "<table border=\"1\" class=\"dataframe\">\n",
       "  <thead>\n",
       "    <tr style=\"text-align: right;\">\n",
       "      <th></th>\n",
       "      <th>node</th>\n",
       "      <th>label</th>\n",
       "    </tr>\n",
       "  </thead>\n",
       "  <tbody>\n",
       "    <tr>\n",
       "      <th>959</th>\n",
       "      <td>0</td>\n",
       "      <td>Sushi Bars</td>\n",
       "    </tr>\n",
       "    <tr>\n",
       "      <th>1969</th>\n",
       "      <td>1</td>\n",
       "      <td>American (New)</td>\n",
       "    </tr>\n",
       "    <tr>\n",
       "      <th>1114</th>\n",
       "      <td>2</td>\n",
       "      <td>Fast Food</td>\n",
       "    </tr>\n",
       "    <tr>\n",
       "      <th>1950</th>\n",
       "      <td>3</td>\n",
       "      <td>American (New)</td>\n",
       "    </tr>\n",
       "    <tr>\n",
       "      <th>2689</th>\n",
       "      <td>4</td>\n",
       "      <td>American (New)</td>\n",
       "    </tr>\n",
       "  </tbody>\n",
       "</table>\n",
       "</div>"
      ],
      "text/plain": [
       "      node           label\n",
       "959      0      Sushi Bars\n",
       "1969     1  American (New)\n",
       "1114     2       Fast Food\n",
       "1950     3  American (New)\n",
       "2689     4  American (New)"
      ]
     },
     "execution_count": 12,
     "metadata": {},
     "output_type": "execute_result"
    }
   ],
   "source": [
    "label.head()"
   ]
  },
  {
   "cell_type": "code",
   "execution_count": null,
   "id": "36fefa0b",
   "metadata": {},
   "outputs": [],
   "source": []
  }
 ],
 "metadata": {
  "kernelspec": {
   "display_name": "Python 3",
   "language": "python",
   "name": "python3"
  },
  "language_info": {
   "codemirror_mode": {
    "name": "ipython",
    "version": 3
   },
   "file_extension": ".py",
   "mimetype": "text/x-python",
   "name": "python",
   "nbconvert_exporter": "python",
   "pygments_lexer": "ipython3",
   "version": "3.7.6"
  },
  "toc": {
   "base_numbering": 1,
   "nav_menu": {},
   "number_sections": true,
   "sideBar": true,
   "skip_h1_title": false,
   "title_cell": "Table of Contents",
   "title_sidebar": "Contents",
   "toc_cell": false,
   "toc_position": {
    "height": "calc(100% - 180px)",
    "left": "10px",
    "top": "150px",
    "width": "165px"
   },
   "toc_section_display": true,
   "toc_window_display": true
  }
 },
 "nbformat": 4,
 "nbformat_minor": 5
}
