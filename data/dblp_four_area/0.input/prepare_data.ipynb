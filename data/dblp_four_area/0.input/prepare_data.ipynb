{
 "cells": [
  {
   "cell_type": "code",
   "execution_count": 1,
   "id": "4bfa0da4",
   "metadata": {},
   "outputs": [],
   "source": [
    "import numpy as np\n",
    "import pandas as pd\n",
    "import csv"
   ]
  },
  {
   "cell_type": "code",
   "execution_count": 2,
   "id": "82448d17",
   "metadata": {},
   "outputs": [
    {
     "name": "stdout",
     "output_type": "stream",
     "text": [
      "mkdir: cannot create directory ‘../1.format/’: File exists\n",
      "mkdir: cannot create directory ‘../nodes_set/’: File exists\n"
     ]
    }
   ],
   "source": [
    "!mkdir ../1.format/\n",
    "!mkdir ../nodes_set/"
   ]
  },
  {
   "cell_type": "code",
   "execution_count": 3,
   "id": "da4800c0",
   "metadata": {},
   "outputs": [
    {
     "name": "stdout",
     "output_type": "stream",
     "text": [
      "(170794, 3)\n"
     ]
    },
    {
     "data": {
      "text/html": [
       "<div>\n",
       "<style scoped>\n",
       "    .dataframe tbody tr th:only-of-type {\n",
       "        vertical-align: middle;\n",
       "    }\n",
       "\n",
       "    .dataframe tbody tr th {\n",
       "        vertical-align: top;\n",
       "    }\n",
       "\n",
       "    .dataframe thead th {\n",
       "        text-align: right;\n",
       "    }\n",
       "</style>\n",
       "<table border=\"1\" class=\"dataframe\">\n",
       "  <thead>\n",
       "    <tr style=\"text-align: right;\">\n",
       "      <th></th>\n",
       "      <th>source_id</th>\n",
       "      <th>target_id</th>\n",
       "      <th>time_id</th>\n",
       "    </tr>\n",
       "  </thead>\n",
       "  <tbody>\n",
       "    <tr>\n",
       "      <th>0</th>\n",
       "      <td>27423</td>\n",
       "      <td>2449</td>\n",
       "      <td>0</td>\n",
       "    </tr>\n",
       "    <tr>\n",
       "      <th>1</th>\n",
       "      <td>27424</td>\n",
       "      <td>2450</td>\n",
       "      <td>1</td>\n",
       "    </tr>\n",
       "    <tr>\n",
       "      <th>2</th>\n",
       "      <td>27425</td>\n",
       "      <td>2450</td>\n",
       "      <td>4</td>\n",
       "    </tr>\n",
       "    <tr>\n",
       "      <th>3</th>\n",
       "      <td>27425</td>\n",
       "      <td>2451</td>\n",
       "      <td>4</td>\n",
       "    </tr>\n",
       "    <tr>\n",
       "      <th>4</th>\n",
       "      <td>27425</td>\n",
       "      <td>2452</td>\n",
       "      <td>4</td>\n",
       "    </tr>\n",
       "  </tbody>\n",
       "</table>\n",
       "</div>"
      ],
      "text/plain": [
       "   source_id  target_id  time_id\n",
       "0      27423       2449        0\n",
       "1      27424       2450        1\n",
       "2      27425       2450        4\n",
       "3      27425       2451        4\n",
       "4      27425       2452        4"
      ]
     },
     "execution_count": 3,
     "metadata": {},
     "output_type": "execute_result"
    }
   ],
   "source": [
    "pd_edges = pd.read_csv('temporal_edge_list.txt', sep=' ', names=['source_id', 'target_id', 'time_id'])\n",
    "print(pd_edges.shape)\n",
    "pd_edges.head()"
   ]
  },
  {
   "cell_type": "code",
   "execution_count": 4,
   "id": "bfddf9ed",
   "metadata": {},
   "outputs": [
    {
     "name": "stdout",
     "output_type": "stream",
     "text": [
      "Save to: ../1.format/00.csv\n",
      "Save to: ../1.format/01.csv\n",
      "Save to: ../1.format/02.csv\n",
      "Save to: ../1.format/03.csv\n",
      "Save to: ../1.format/04.csv\n",
      "Save to: ../1.format/05.csv\n",
      "Save to: ../1.format/06.csv\n"
     ]
    }
   ],
   "source": [
    "num_time_steps = pd_edges['time_id'].max() + 1\n",
    "for time_id in range(num_time_steps):\n",
    "    tmp = pd_edges[pd_edges['time_id']==time_id][['source_id', 'target_id']]\n",
    "    tmp = tmp.rename(columns={'source_id': 'from_id', 'target_id': 'to_id'})\n",
    "    tmp['weight'] = 1\n",
    "    save_path = '../1.format/{:02d}.csv'.format(time_id)\n",
    "    print('Save to: {}'.format(save_path))\n",
    "    tmp[['from_id', 'to_id', 'weight']].to_csv(save_path, sep='\\t', index=False)"
   ]
  },
  {
   "cell_type": "code",
   "execution_count": 5,
   "id": "ae6b898f",
   "metadata": {},
   "outputs": [
    {
     "data": {
      "text/plain": [
       "(37791, 0, 37790)"
      ]
     },
     "execution_count": 5,
     "metadata": {},
     "output_type": "execute_result"
    }
   ],
   "source": [
    "nodes = list(set(pd_edges['source_id'].unique().tolist() + pd_edges['target_id'].unique().tolist()))\n",
    "len(nodes), min(nodes), max(nodes)"
   ]
  },
  {
   "cell_type": "code",
   "execution_count": 6,
   "id": "326dc4aa",
   "metadata": {},
   "outputs": [],
   "source": [
    "with open('../nodes_set/nodes.csv',\"w\") as f:\n",
    "    wr = csv.writer(f, delimiter=\"\\n\")\n",
    "    wr.writerow(nodes)"
   ]
  },
  {
   "cell_type": "code",
   "execution_count": null,
   "id": "12d451c8",
   "metadata": {},
   "outputs": [],
   "source": []
  }
 ],
 "metadata": {
  "kernelspec": {
   "display_name": "Python 3",
   "language": "python",
   "name": "python3"
  },
  "language_info": {
   "codemirror_mode": {
    "name": "ipython",
    "version": 3
   },
   "file_extension": ".py",
   "mimetype": "text/x-python",
   "name": "python",
   "nbconvert_exporter": "python",
   "pygments_lexer": "ipython3",
   "version": "3.7.6"
  },
  "toc": {
   "base_numbering": 1,
   "nav_menu": {},
   "number_sections": true,
   "sideBar": true,
   "skip_h1_title": false,
   "title_cell": "Table of Contents",
   "title_sidebar": "Contents",
   "toc_cell": false,
   "toc_position": {
    "height": "calc(100% - 180px)",
    "left": "10px",
    "top": "150px",
    "width": "165px"
   },
   "toc_section_display": true,
   "toc_window_display": true
  }
 },
 "nbformat": 4,
 "nbformat_minor": 5
}
